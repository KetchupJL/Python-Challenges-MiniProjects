{
 "cells": [
  {
   "cell_type": "markdown",
   "id": "4a628bc5-c041-461e-a210-5a46d5691a8b",
   "metadata": {},
   "source": [
    "We are trying to predict a continuous variable (Listening_Time_minutes) using a mix of numeric and categorical inputs."
   ]
  },
  {
   "cell_type": "markdown",
   "id": "c29a13f1-0e5e-4ab1-88d0-d19f5feae2b3",
   "metadata": {},
   "source": [
    "This is a supervised regression problem"
   ]
  },
  {
   "cell_type": "markdown",
   "id": "a1f180af-1b1b-4dbb-b257-4d7fed277a9d",
   "metadata": {},
   "source": [
    "The models we could use:\n",
    "- Linear Regression or related Generalised models\n",
    "- Random Forests\n",
    "- Gradient boost trees\n",
    "- Neural Networks"
   ]
  },
  {
   "cell_type": "markdown",
   "id": "d4e8d679-fcad-49b3-8a4c-914a176e61cc",
   "metadata": {},
   "source": [
    "## Set up data and create sample dataset"
   ]
  },
  {
   "cell_type": "code",
   "execution_count": 1,
   "id": "276ca12e-4167-4146-9d19-42012640cda6",
   "metadata": {},
   "outputs": [],
   "source": [
    "import pandas as pd\n",
    "import numpy as np\n",
    "import matplotlib.pyplot as plt\n",
    "import seaborn as sns\n",
    "\n",
    "# Load training data\n",
    "train = pd.read_csv('train.csv')\n",
    "\n",
    "# Drop high-cardinality or unhelpful columns\n",
    "cols_to_drop = ['id', 'Episode_Title']  # High cardinality / text\n",
    "train = train.drop(columns=cols_to_drop)\n",
    "\n",
    "# Drop rows with missing values for simplicity (we can impute later)\n",
    "train = train.dropna()\n",
    "\n",
    "# Sample 10% to make the linear model faster to train and easier to inspect\n",
    "train_sample = train.sample(frac=0.1, random_state=42)\n"
   ]
  },
  {
   "cell_type": "markdown",
   "id": "36ff5094-20b0-43c8-91aa-9f7ddeec1e49",
   "metadata": {},
   "source": [
    "## Feature Engineering + One-Hot Encoding"
   ]
  },
  {
   "cell_type": "markdown",
   "id": "fc626974-f04f-4226-a893-3a477ce2ba39",
   "metadata": {},
   "source": [
    "Encode categorical variables using One-Hot Encoding\n",
    "\n",
    "Keep numeric features as they are (no scaling required here)\n",
    "\n",
    "Prepare X (features) and y (target) for modeling"
   ]
  },
  {
   "cell_type": "markdown",
   "id": "28d8124c-64ea-4912-a173-8742232dda5a",
   "metadata": {},
   "source": [
    "Which columns are categorical?\n",
    "From earlier, we know:\n",
    "\n",
    "Categorical:\n",
    "Podcast_Name (can drop or encode later if needed)\n",
    "Genre\n",
    "Publication_Day\n",
    "Publication_Time\n",
    "Episode_Sentiment\n",
    "\n",
    "Numeric:\n",
    "Episode_Length_minutes\n",
    "Host_Popularity_percentage\n",
    "Guest_Popularity_percentage\n",
    "Number_of_Ads"
   ]
  },
  {
   "cell_type": "code",
   "execution_count": 8,
   "id": "7d907baf-61b0-4e0a-9fc2-caed0536f6d6",
   "metadata": {},
   "outputs": [
    {
     "name": "stdout",
     "output_type": "stream",
     "text": [
      "X shape: (53905, 71)\n"
     ]
    },
    {
     "data": {
      "text/html": [
       "<div>\n",
       "<style scoped>\n",
       "    .dataframe tbody tr th:only-of-type {\n",
       "        vertical-align: middle;\n",
       "    }\n",
       "\n",
       "    .dataframe tbody tr th {\n",
       "        vertical-align: top;\n",
       "    }\n",
       "\n",
       "    .dataframe thead th {\n",
       "        text-align: right;\n",
       "    }\n",
       "</style>\n",
       "<table border=\"1\" class=\"dataframe\">\n",
       "  <thead>\n",
       "    <tr style=\"text-align: right;\">\n",
       "      <th></th>\n",
       "      <th>Episode_Length_minutes</th>\n",
       "      <th>Host_Popularity_percentage</th>\n",
       "      <th>Guest_Popularity_percentage</th>\n",
       "      <th>Number_of_Ads</th>\n",
       "      <th>Podcast_Name_Brain Boost</th>\n",
       "      <th>Podcast_Name_Business Briefs</th>\n",
       "      <th>Podcast_Name_Business Insights</th>\n",
       "      <th>Podcast_Name_Comedy Corner</th>\n",
       "      <th>Podcast_Name_Crime Chronicles</th>\n",
       "      <th>Podcast_Name_Criminal Minds</th>\n",
       "      <th>...</th>\n",
       "      <th>Publication_Day_Saturday</th>\n",
       "      <th>Publication_Day_Sunday</th>\n",
       "      <th>Publication_Day_Thursday</th>\n",
       "      <th>Publication_Day_Tuesday</th>\n",
       "      <th>Publication_Day_Wednesday</th>\n",
       "      <th>Publication_Time_Evening</th>\n",
       "      <th>Publication_Time_Morning</th>\n",
       "      <th>Publication_Time_Night</th>\n",
       "      <th>Episode_Sentiment_Neutral</th>\n",
       "      <th>Episode_Sentiment_Positive</th>\n",
       "    </tr>\n",
       "  </thead>\n",
       "  <tbody>\n",
       "    <tr>\n",
       "      <th>272136</th>\n",
       "      <td>19.74</td>\n",
       "      <td>59.66</td>\n",
       "      <td>59.68</td>\n",
       "      <td>0.0</td>\n",
       "      <td>False</td>\n",
       "      <td>False</td>\n",
       "      <td>True</td>\n",
       "      <td>False</td>\n",
       "      <td>False</td>\n",
       "      <td>False</td>\n",
       "      <td>...</td>\n",
       "      <td>False</td>\n",
       "      <td>False</td>\n",
       "      <td>False</td>\n",
       "      <td>False</td>\n",
       "      <td>False</td>\n",
       "      <td>False</td>\n",
       "      <td>False</td>\n",
       "      <td>True</td>\n",
       "      <td>False</td>\n",
       "      <td>False</td>\n",
       "    </tr>\n",
       "    <tr>\n",
       "      <th>364280</th>\n",
       "      <td>37.22</td>\n",
       "      <td>59.46</td>\n",
       "      <td>98.61</td>\n",
       "      <td>1.0</td>\n",
       "      <td>False</td>\n",
       "      <td>False</td>\n",
       "      <td>False</td>\n",
       "      <td>False</td>\n",
       "      <td>False</td>\n",
       "      <td>False</td>\n",
       "      <td>...</td>\n",
       "      <td>False</td>\n",
       "      <td>False</td>\n",
       "      <td>False</td>\n",
       "      <td>True</td>\n",
       "      <td>False</td>\n",
       "      <td>False</td>\n",
       "      <td>False</td>\n",
       "      <td>False</td>\n",
       "      <td>False</td>\n",
       "      <td>False</td>\n",
       "    </tr>\n",
       "    <tr>\n",
       "      <th>546101</th>\n",
       "      <td>113.98</td>\n",
       "      <td>81.64</td>\n",
       "      <td>32.83</td>\n",
       "      <td>2.0</td>\n",
       "      <td>False</td>\n",
       "      <td>False</td>\n",
       "      <td>False</td>\n",
       "      <td>False</td>\n",
       "      <td>False</td>\n",
       "      <td>False</td>\n",
       "      <td>...</td>\n",
       "      <td>False</td>\n",
       "      <td>True</td>\n",
       "      <td>False</td>\n",
       "      <td>False</td>\n",
       "      <td>False</td>\n",
       "      <td>False</td>\n",
       "      <td>False</td>\n",
       "      <td>False</td>\n",
       "      <td>True</td>\n",
       "      <td>False</td>\n",
       "    </tr>\n",
       "    <tr>\n",
       "      <th>399060</th>\n",
       "      <td>5.84</td>\n",
       "      <td>53.60</td>\n",
       "      <td>76.69</td>\n",
       "      <td>2.0</td>\n",
       "      <td>False</td>\n",
       "      <td>False</td>\n",
       "      <td>False</td>\n",
       "      <td>False</td>\n",
       "      <td>False</td>\n",
       "      <td>False</td>\n",
       "      <td>...</td>\n",
       "      <td>False</td>\n",
       "      <td>False</td>\n",
       "      <td>False</td>\n",
       "      <td>True</td>\n",
       "      <td>False</td>\n",
       "      <td>False</td>\n",
       "      <td>False</td>\n",
       "      <td>False</td>\n",
       "      <td>False</td>\n",
       "      <td>False</td>\n",
       "    </tr>\n",
       "    <tr>\n",
       "      <th>3328</th>\n",
       "      <td>54.11</td>\n",
       "      <td>78.62</td>\n",
       "      <td>66.83</td>\n",
       "      <td>1.0</td>\n",
       "      <td>False</td>\n",
       "      <td>False</td>\n",
       "      <td>False</td>\n",
       "      <td>False</td>\n",
       "      <td>False</td>\n",
       "      <td>False</td>\n",
       "      <td>...</td>\n",
       "      <td>False</td>\n",
       "      <td>False</td>\n",
       "      <td>False</td>\n",
       "      <td>True</td>\n",
       "      <td>False</td>\n",
       "      <td>True</td>\n",
       "      <td>False</td>\n",
       "      <td>False</td>\n",
       "      <td>False</td>\n",
       "      <td>True</td>\n",
       "    </tr>\n",
       "  </tbody>\n",
       "</table>\n",
       "<p>5 rows × 71 columns</p>\n",
       "</div>"
      ],
      "text/plain": [
       "        Episode_Length_minutes  Host_Popularity_percentage  \\\n",
       "272136                   19.74                       59.66   \n",
       "364280                   37.22                       59.46   \n",
       "546101                  113.98                       81.64   \n",
       "399060                    5.84                       53.60   \n",
       "3328                     54.11                       78.62   \n",
       "\n",
       "        Guest_Popularity_percentage  Number_of_Ads  Podcast_Name_Brain Boost  \\\n",
       "272136                        59.68            0.0                     False   \n",
       "364280                        98.61            1.0                     False   \n",
       "546101                        32.83            2.0                     False   \n",
       "399060                        76.69            2.0                     False   \n",
       "3328                          66.83            1.0                     False   \n",
       "\n",
       "        Podcast_Name_Business Briefs  Podcast_Name_Business Insights  \\\n",
       "272136                         False                            True   \n",
       "364280                         False                           False   \n",
       "546101                         False                           False   \n",
       "399060                         False                           False   \n",
       "3328                           False                           False   \n",
       "\n",
       "        Podcast_Name_Comedy Corner  Podcast_Name_Crime Chronicles  \\\n",
       "272136                       False                          False   \n",
       "364280                       False                          False   \n",
       "546101                       False                          False   \n",
       "399060                       False                          False   \n",
       "3328                         False                          False   \n",
       "\n",
       "        Podcast_Name_Criminal Minds  ...  Publication_Day_Saturday  \\\n",
       "272136                        False  ...                     False   \n",
       "364280                        False  ...                     False   \n",
       "546101                        False  ...                     False   \n",
       "399060                        False  ...                     False   \n",
       "3328                          False  ...                     False   \n",
       "\n",
       "        Publication_Day_Sunday  Publication_Day_Thursday  \\\n",
       "272136                   False                     False   \n",
       "364280                   False                     False   \n",
       "546101                    True                     False   \n",
       "399060                   False                     False   \n",
       "3328                     False                     False   \n",
       "\n",
       "        Publication_Day_Tuesday  Publication_Day_Wednesday  \\\n",
       "272136                    False                      False   \n",
       "364280                     True                      False   \n",
       "546101                    False                      False   \n",
       "399060                     True                      False   \n",
       "3328                       True                      False   \n",
       "\n",
       "        Publication_Time_Evening  Publication_Time_Morning  \\\n",
       "272136                     False                     False   \n",
       "364280                     False                     False   \n",
       "546101                     False                     False   \n",
       "399060                     False                     False   \n",
       "3328                        True                     False   \n",
       "\n",
       "        Publication_Time_Night  Episode_Sentiment_Neutral  \\\n",
       "272136                    True                      False   \n",
       "364280                   False                      False   \n",
       "546101                   False                       True   \n",
       "399060                   False                      False   \n",
       "3328                     False                      False   \n",
       "\n",
       "        Episode_Sentiment_Positive  \n",
       "272136                       False  \n",
       "364280                       False  \n",
       "546101                       False  \n",
       "399060                       False  \n",
       "3328                          True  \n",
       "\n",
       "[5 rows x 71 columns]"
      ]
     },
     "execution_count": 8,
     "metadata": {},
     "output_type": "execute_result"
    }
   ],
   "source": [
    "# Target column\n",
    "y = train_sample['Listening_Time_minutes']\n",
    "\n",
    "# Drop target from features\n",
    "X = train_sample.drop(columns=['Listening_Time_minutes'])\n",
    "\n",
    "# One-hot encode categorical features\n",
    "X_encoded = pd.get_dummies(X, drop_first=True)\n",
    "\n",
    "# Sanity check\n",
    "print(\"X shape:\", X_encoded.shape)\n",
    "X_encoded.head()\n"
   ]
  },
  {
   "cell_type": "markdown",
   "id": "50e4094b-afa3-4dc4-a1e7-f386a454b73e",
   "metadata": {},
   "source": [
    "## Fitting a linear regression model"
   ]
  },
  {
   "cell_type": "code",
   "execution_count": 15,
   "id": "0d840a17-7357-42e4-8e02-c14241d6700a",
   "metadata": {},
   "outputs": [
    {
     "name": "stdout",
     "output_type": "stream",
     "text": [
      "RMSE: 10.72\n",
      "MAE: 8.25\n",
      "R²: 0.8442\n"
     ]
    },
    {
     "name": "stderr",
     "output_type": "stream",
     "text": [
      "C:\\Users\\james\\anaconda3\\Lib\\site-packages\\sklearn\\metrics\\_regression.py:492: FutureWarning: 'squared' is deprecated in version 1.4 and will be removed in 1.6. To calculate the root mean squared error, use the function'root_mean_squared_error'.\n",
      "  warnings.warn(\n"
     ]
    }
   ],
   "source": [
    "from sklearn.linear_model import LinearRegression\n",
    "from sklearn.metrics import mean_squared_error, mean_absolute_error, r2_score\n",
    "\n",
    "# Initialize and fit model\n",
    "lr = LinearRegression()\n",
    "lr.fit(X_encoded, y)\n",
    "\n",
    "# Predict on the training sample\n",
    "y_pred = lr.predict(X_encoded)\n",
    "\n",
    "# Evaluate performance\n",
    "rmse = mean_squared_error(y, y_pred, squared=False)\n",
    "mae = mean_absolute_error(y, y_pred)\n",
    "r2 = r2_score(y, y_pred)\n",
    "\n",
    "print(f\"RMSE: {rmse:.2f}\")\n",
    "print(f\"MAE: {mae:.2f}\")\n",
    "print(f\"R²: {r2:.4f}\")\n"
   ]
  },
  {
   "cell_type": "code",
   "execution_count": 17,
   "id": "e4f4f661-c45e-47f0-8f5c-5a63ef485880",
   "metadata": {},
   "outputs": [
    {
     "data": {
      "text/html": [
       "<div>\n",
       "<style scoped>\n",
       "    .dataframe tbody tr th:only-of-type {\n",
       "        vertical-align: middle;\n",
       "    }\n",
       "\n",
       "    .dataframe tbody tr th {\n",
       "        vertical-align: top;\n",
       "    }\n",
       "\n",
       "    .dataframe thead th {\n",
       "        text-align: right;\n",
       "    }\n",
       "</style>\n",
       "<table border=\"1\" class=\"dataframe\">\n",
       "  <thead>\n",
       "    <tr style=\"text-align: right;\">\n",
       "      <th></th>\n",
       "      <th>Feature</th>\n",
       "      <th>Coefficient</th>\n",
       "    </tr>\n",
       "  </thead>\n",
       "  <tbody>\n",
       "    <tr>\n",
       "      <th>52</th>\n",
       "      <td>Genre_Education</td>\n",
       "      <td>-5.230991</td>\n",
       "    </tr>\n",
       "    <tr>\n",
       "      <th>43</th>\n",
       "      <td>Podcast_Name_Study Sessions</td>\n",
       "      <td>4.508447</td>\n",
       "    </tr>\n",
       "    <tr>\n",
       "      <th>14</th>\n",
       "      <td>Podcast_Name_Educational Nuggets</td>\n",
       "      <td>4.476808</td>\n",
       "    </tr>\n",
       "    <tr>\n",
       "      <th>4</th>\n",
       "      <td>Podcast_Name_Brain Boost</td>\n",
       "      <td>4.313080</td>\n",
       "    </tr>\n",
       "    <tr>\n",
       "      <th>29</th>\n",
       "      <td>Podcast_Name_Learning Lab</td>\n",
       "      <td>3.840352</td>\n",
       "    </tr>\n",
       "    <tr>\n",
       "      <th>51</th>\n",
       "      <td>Genre_Comedy</td>\n",
       "      <td>-3.130992</td>\n",
       "    </tr>\n",
       "    <tr>\n",
       "      <th>18</th>\n",
       "      <td>Podcast_Name_Funny Folks</td>\n",
       "      <td>2.849153</td>\n",
       "    </tr>\n",
       "    <tr>\n",
       "      <th>7</th>\n",
       "      <td>Podcast_Name_Comedy Corner</td>\n",
       "      <td>2.750909</td>\n",
       "    </tr>\n",
       "    <tr>\n",
       "      <th>8</th>\n",
       "      <td>Podcast_Name_Crime Chronicles</td>\n",
       "      <td>2.640969</td>\n",
       "    </tr>\n",
       "    <tr>\n",
       "      <th>27</th>\n",
       "      <td>Podcast_Name_Joke Junction</td>\n",
       "      <td>2.545323</td>\n",
       "    </tr>\n",
       "  </tbody>\n",
       "</table>\n",
       "</div>"
      ],
      "text/plain": [
       "                             Feature  Coefficient\n",
       "52                   Genre_Education    -5.230991\n",
       "43       Podcast_Name_Study Sessions     4.508447\n",
       "14  Podcast_Name_Educational Nuggets     4.476808\n",
       "4           Podcast_Name_Brain Boost     4.313080\n",
       "29         Podcast_Name_Learning Lab     3.840352\n",
       "51                      Genre_Comedy    -3.130992\n",
       "18          Podcast_Name_Funny Folks     2.849153\n",
       "7         Podcast_Name_Comedy Corner     2.750909\n",
       "8      Podcast_Name_Crime Chronicles     2.640969\n",
       "27        Podcast_Name_Joke Junction     2.545323"
      ]
     },
     "execution_count": 17,
     "metadata": {},
     "output_type": "execute_result"
    }
   ],
   "source": [
    "# Create a DataFrame of coefficients\n",
    "coef_df = pd.DataFrame({\n",
    "    'Feature': X_encoded.columns,\n",
    "    'Coefficient': lr.coef_\n",
    "}).sort_values(by='Coefficient', key=abs, ascending=False)\n",
    "\n",
    "coef_df.head(10)\n"
   ]
  },
  {
   "cell_type": "code",
   "execution_count": 19,
   "id": "60a51fee-7760-4019-a47d-31bd7f278f14",
   "metadata": {},
   "outputs": [
    {
     "data": {
      "image/png": "[encoded data removed]",
      "text/plain": [
       "<Figure size 1000x500 with 1 Axes>"
      ]
     },
     "metadata": {},
     "output_type": "display_data"
    }
   ],
   "source": [
    "import matplotlib.pyplot as plt\n",
    "import seaborn as sns\n",
    "\n",
    "residuals = y - y_pred\n",
    "\n",
    "plt.figure(figsize=(10, 5))\n",
    "sns.scatterplot(x=y_pred, y=residuals, alpha=0.3)\n",
    "plt.axhline(0, color='red', linestyle='--')\n",
    "plt.xlabel('Predicted Listening Time')\n",
    "plt.ylabel('Residuals (Actual - Predicted)')\n",
    "plt.title('Residuals vs Predicted')\n",
    "plt.tight_layout()\n",
    "plt.show()\n"
   ]
  },
  {
   "cell_type": "markdown",
   "id": "0fae4f31-a1fe-4eb7-b1b7-c3f7862a96ca",
   "metadata": {},
   "source": [
    "To build a foundational understanding of the data structure and the key drivers of Listening_Time_minutes, a simple Linear Regression model was fitted on a 10% sample of the training dataset (after dropping missing values and high-cardinality text columns such as Episode_Title and id)."
   ]
  },
  {
   "cell_type": "markdown",
   "id": "5950a482-a4c7-477a-a158-27a3466c8242",
   "metadata": {},
   "source": [
    "Feature Preparation\n",
    "Categorical variables were one-hot encoded using pd.get_dummies() with drop_first=True to avoid multicollinearity.\n",
    "\n",
    "Numerical features were kept as-is.\n",
    "\n",
    "The target variable was Listening_Time_minutes."
   ]
  },
  {
   "cell_type": "markdown",
   "id": "b0989014-e9c7-4265-92ac-dc0d7322136f",
   "metadata": {},
   "source": [
    "The model explains approximately 84% of the variance in listening time, which is strong for a simple linear model. However, this may be somewhat inflated due to the high dimensionality introduced by encoding Podcast_Name."
   ]
  },
  {
   "cell_type": "markdown",
   "id": "5f3bab97-6829-4a32-b57b-059eb719e440",
   "metadata": {},
   "source": [
    "Coefficient Insights\n",
    "Genre_Education and Genre_Comedy showed negative coefficients, indicating that educational and comedic content tends to be associated with shorter listening times relative to the baseline genre.\n",
    "\n",
    "Several podcast-specific dummies (e.g., Podcast_Name_Study Sessions) had large positive coefficients, suggesting strong podcast-level effects — though these are likely overfitted due to being uniquely tied to individual entries."
   ]
  },
  {
   "cell_type": "markdown",
   "id": "ecd28dde-21e4-492e-a65f-e0606ea79abb",
   "metadata": {},
   "source": [
    "Residual Analysis\n",
    "The residuals were centered around zero, but showed a funnel-shaped pattern, indicating heteroskedasticity (greater prediction error for longer episodes). This suggests that the linear model does not fully capture the complexity of the relationships in the data — especially for long-form content or outliers."
   ]
  },
  {
   "cell_type": "markdown",
   "id": "bdfbb089-9871-4aa2-8049-465e14d98f23",
   "metadata": {},
   "source": [
    "## Summary"
   ]
  },
  {
   "cell_type": "markdown",
   "id": "c1646ce5-c1f8-4246-8441-df41623079e4",
   "metadata": {},
   "source": [
    "This linear regression model served as a strong baseline to:\n",
    "\n",
    "Understand feature contributions\n",
    "\n",
    "Identify early relationships in the data\n",
    "\n",
    "Highlight the need for a more flexible model\n",
    "\n",
    "In the next step, a nonlinear model such as Random Forest will be explored to better capture interactions and nonlinearities."
   ]
  },
  {
   "cell_type": "code",
   "execution_count": null,
   "id": "015eda89-251a-4b90-93c4-9f52892b649b",
   "metadata": {},
   "outputs": [],
   "source": []
  }
 ],
 "metadata": {
  "kernelspec": {
   "display_name": "Python [conda env:base] *",
   "language": "python",
   "name": "conda-base-py"
  },
  "language_info": {
   "codemirror_mode": {
    "name": "ipython",
    "version": 3
   },
   "file_extension": ".py",
   "mimetype": "text/x-python",
   "name": "python",
   "nbconvert_exporter": "python",
   "pygments_lexer": "ipython3",
   "version": "3.12.7"
  }
 },
 "nbformat": 4,
 "nbformat_minor": 5
}
