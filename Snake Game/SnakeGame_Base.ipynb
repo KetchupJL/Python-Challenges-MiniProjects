{
 "cells": [
  {
   "cell_type": "code",
   "execution_count": 1,
   "id": "83417962-2378-4860-b569-4d89b12abcf5",
   "metadata": {},
   "outputs": [
    {
     "name": "stdout",
     "output_type": "stream",
     "text": [
      "Collecting pygame\n",
      "  Downloading pygame-2.6.1-cp312-cp312-win_amd64.whl.metadata (13 kB)\n",
      "Downloading pygame-2.6.1-cp312-cp312-win_amd64.whl (10.6 MB)\n",
      "   ---------------------------------------- 0.0/10.6 MB ? eta -:--:--\n",
      "   ------ --------------------------------- 1.8/10.6 MB 11.2 MB/s eta 0:00:01\n",
      "   --------------- ------------------------ 4.2/10.6 MB 10.5 MB/s eta 0:00:01\n",
      "   ------------------------ --------------- 6.6/10.6 MB 10.9 MB/s eta 0:00:01\n",
      "   ------------------------------------ --- 9.7/10.6 MB 11.6 MB/s eta 0:00:01\n",
      "   ---------------------------------------- 10.6/10.6 MB 11.1 MB/s eta 0:00:00\n",
      "Installing collected packages: pygame\n",
      "Successfully installed pygame-2.6.1\n",
      "Note: you may need to restart the kernel to use updated packages.\n"
     ]
    }
   ],
   "source": [
    "pip install pygame"
   ]
  },
  {
   "cell_type": "raw",
   "id": "e4a3820e-0dac-4f54-a91a-43d79655e2d2",
   "metadata": {},
   "source": [
    "import pygame as pg"
   ]
  },
  {
   "cell_type": "markdown",
   "id": "fc8fc98b-4cbd-43d8-ba28-b41a27c4be67",
   "metadata": {},
   "source": [
    "# Base Game without rules"
   ]
  },
  {
   "cell_type": "code",
   "execution_count": null,
   "id": "ccdbac0b-5a3c-43fb-b385-240ac9c302e1",
   "metadata": {},
   "outputs": [],
   "source": [
    "# From https://github.com/OxfordRSE/uniqplus_snake_project/tree/main/steps"
   ]
  },
  {
   "cell_type": "code",
   "execution_count": 6,
   "id": "7cebda48-8495-4f24-ae1c-d4a1a41e904c",
   "metadata": {},
   "outputs": [],
   "source": [
    "import pygame\n",
    "# import constants used by pygame to map each key\n",
    "from pygame.locals import (\n",
    "    K_UP,\n",
    "    K_DOWN,\n",
    "    K_LEFT,\n",
    "    K_RIGHT\n",
    ")\n",
    "\n",
    "pygame.init()\n",
    "\n",
    "# Create screen\n",
    "SCREEN_HEIGHT = 400\n",
    "SCREEN_WIDTH = 600\n",
    "screen = pygame.display.set_mode([SCREEN_WIDTH, SCREEN_HEIGHT])\n",
    "\n",
    "# Define colours in red-green-blue form\n",
    "BLACK = (0, 0, 0)\n",
    "WHITE = (255, 255, 255)\n",
    "\n",
    "# Function which draws square at some point\n",
    "def draw_square(x, y, size=20):\n",
    "    pygame.draw.rect(\n",
    "            screen, WHITE,\n",
    "      \t\t\t[x, y, size, size]\n",
    "        )\n",
    "\n",
    "# Function which moves square\n",
    "def move_square(direction, current_x, current_y, size=20):\n",
    "    new_x = current_x + size * direction[0]\n",
    "    new_y = current_y + size * direction[1]\n",
    "    return new_x, new_y\n",
    "\n",
    "# Initialise rectangle position and velocity\n",
    "x, y = SCREEN_WIDTH // 2, SCREEN_HEIGHT // 2\n",
    "direction = [0, 0]\n",
    "\n",
    "# Create clock and specify the frame rate\n",
    "clock = pygame.time.Clock()\n",
    "speed = 10\n",
    "\n",
    "# Run game loop\n",
    "game_over=False\n",
    "while not game_over:\n",
    "    for event in pygame.event.get():\n",
    "        if event.type==pygame.QUIT:\n",
    "            game_over=True\n",
    "    \n",
    "    # Draw black canvas\n",
    "    screen.fill(BLACK)\n",
    "\n",
    "    \n",
    "    # Display the keys that are pressed by the user\n",
    "    keys_pressed = pygame.key.get_pressed()\n",
    "    if keys_pressed[K_UP]:\n",
    "        direction = [0, -1]\n",
    "    elif keys_pressed[K_DOWN]:\n",
    "        direction = [0, 1]\n",
    "    elif keys_pressed[K_LEFT]:\n",
    "        direction = [-1, 0]\n",
    "    elif keys_pressed[K_RIGHT]:\n",
    "        direction = [1, 0]\n",
    "    \n",
    "    # Update square position\n",
    "    x, y = move_square(direction, x, y)\n",
    "    draw_square(x, y)\n",
    "    \n",
    "    # Update display\n",
    "    pygame.display.update()\n",
    "    \n",
    "    # Delay game updates according to frame rate\n",
    "    clock.tick(speed)\n",
    "\n",
    "pygame.quit()"
   ]
  },
  {
   "cell_type": "markdown",
   "id": "b9460c41-2ba3-4176-961a-744d26b6b474",
   "metadata": {},
   "source": [
    "## Making my own version"
   ]
  },
  {
   "cell_type": "code",
   "execution_count": 1,
   "id": "e051c16e-0b5b-43e6-bba2-9fad9eacaeba",
   "metadata": {},
   "outputs": [
    {
     "name": "stdout",
     "output_type": "stream",
     "text": [
      "pygame 2.6.1 (SDL 2.28.4, Python 3.12.7)\n",
      "Hello from the pygame community. https://www.pygame.org/contribute.html\n"
     ]
    },
    {
     "data": {
      "text/plain": [
       "124471"
      ]
     },
     "execution_count": 1,
     "metadata": {},
     "output_type": "execute_result"
    }
   ],
   "source": [
    "#Step 1: Initialising pygame and setting up the screen.\n",
    "import pygame\n",
    "import random\n",
    "# import constants used by pygame to map each key\n",
    "from pygame.locals import (\n",
    "    K_UP,\n",
    "    K_DOWN,\n",
    "    K_LEFT,\n",
    "    K_RIGHT\n",
    ")\n",
    "\n",
    "pygame.init()\n",
    "\n",
    "# Screen settings\n",
    "SCREEN_HEIGHT, SCREEN_WIDTH = 600, 600\n",
    "screen = pygame.display.set_mode([SCREEN_WIDTH, SCREEN_HEIGHT])\n",
    "\n",
    "# Colors\n",
    "BLACK, WHITE = (0, 0, 0), (255, 255, 255)\n",
    "\n",
    "# Step 3: Create the Snake and Food Classes\n",
    "class Snake:\n",
    "    def __init__(self, position, size=20):\n",
    "        self.body = [position]\n",
    "        self.direction = [0, 0]\n",
    "        self.size = size\n",
    "\n",
    "    def change_direction(self, new_direction):\n",
    "        self.direction = new_direction\n",
    "\n",
    "    def move(self):\n",
    "        new_head = (self.body[0][0] + self.direction[0] * self.size,\n",
    "                    self.body[0][1] + self.direction[1] * self.size)\n",
    "        self.body = [new_head] + self.body[:-1]\n",
    "\n",
    "    def grow(self):\n",
    "        self.body.append(self.body[-1])\n",
    "\n",
    "class Food:\n",
    "    def __init__(self, screen_width, screen_height, size=20):\n",
    "        self.size = size\n",
    "        self.position = self.random_position(screen_width, screen_height)\n",
    "\n",
    "    def random_position(self, screen_width, screen_height):\n",
    "        x = round(random.randrange(0, screen_width - self.size) / self.size) * self.size\n",
    "        y = round(random.randrange(0, screen_height - self.size) / self.size) * self.size\n",
    "        return (x, y)\n",
    "\n",
    "def display_message(msg, screen):\n",
    "    font = pygame.font.SysFont(None, 50)\n",
    "    mesg = font.render(msg, True, WHITE)\n",
    "    screen.blit(mesg, [SCREEN_WIDTH // 4, SCREEN_HEIGHT // 2])\n",
    "\n",
    "clock = pygame.time.Clock()\n",
    "snake = Snake((SCREEN_WIDTH // 2, SCREEN_HEIGHT // 2))\n",
    "food = Food(SCREEN_WIDTH, SCREEN_HEIGHT)\n",
    "score, speed = 0, 10\n",
    "game_over = False\n",
    "\n",
    "while not game_over:\n",
    "    for event in pygame.event.get():\n",
    "        if event.type == pygame.QUIT:\n",
    "            game_over = True\n",
    "\n",
    "keys = pygame.key.get_pressed()\n",
    "if keys[K_UP] and snake.direction != [0, 1]:\n",
    "    snake.change_direction([0, -1])\n",
    "elif keys[K_DOWN] and snake.direction != [0, -1]:\n",
    "    snake.change_direction([0, 1])\n",
    "elif keys[K_LEFT] and snake.direction != [1, 0]:\n",
    "    snake.change_direction([-1, 0])\n",
    "elif keys[K_RIGHT] and snake.direction != [-1, 0]:\n",
    "    snake.change_direction([1, 0])\n",
    "\n",
    "snake.move()\n",
    "if snake.body[0] == food.position:\n",
    "    snake.grow()\n",
    "    food = Food(SCREEN_WIDTH, SCREEN_HEIGHT)\n",
    "    score += 1\n",
    "    speed += 1\n",
    "\n",
    "def draw_square(x, y, size=20):\n",
    "    pygame.draw.rect(screen, WHITE, [x, y, size, size])\n",
    "\n",
    "screen.fill(BLACK)\n",
    "for segment in snake.body:\n",
    "    draw_square(segment[0], segment[1])\n",
    "draw_square(food.position[0], food.position[1])\n",
    "pygame.display.update()\n",
    "clock.tick(speed)\n"
   ]
  }
 ],
 "metadata": {
  "kernelspec": {
   "display_name": "Python 3 (ipykernel)",
   "language": "python",
   "name": "python3"
  },
  "language_info": {
   "codemirror_mode": {
    "name": "ipython",
    "version": 3
   },
   "file_extension": ".py",
   "mimetype": "text/x-python",
   "name": "python",
   "nbconvert_exporter": "python",
   "pygments_lexer": "ipython3",
   "version": "3.12.7"
  }
 },
 "nbformat": 4,
 "nbformat_minor": 5
}
